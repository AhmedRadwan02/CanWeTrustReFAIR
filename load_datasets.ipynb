{
 "cells": [
  {
   "cell_type": "code",
   "execution_count": 9,
   "id": "1045aac6-f74f-401a-a5a8-0a3104093b7e",
   "metadata": {},
   "outputs": [
    {
     "name": "stdout",
     "output_type": "stream",
     "text": [
      "Defaulting to user installation because normal site-packages is not writeable\n",
      "Requirement already satisfied: scikit-multilearn in /Users/ward3n/Library/Python/3.9/lib/python/site-packages (0.2.0)\n",
      "\n",
      "\u001b[1m[\u001b[0m\u001b[34;49mnotice\u001b[0m\u001b[1;39;49m]\u001b[0m\u001b[39;49m A new release of pip is available: \u001b[0m\u001b[31;49m23.3.2\u001b[0m\u001b[39;49m -> \u001b[0m\u001b[32;49m24.3.1\u001b[0m\n",
      "\u001b[1m[\u001b[0m\u001b[34;49mnotice\u001b[0m\u001b[1;39;49m]\u001b[0m\u001b[39;49m To update, run: \u001b[0m\u001b[32;49m/Applications/Xcode.app/Contents/Developer/usr/bin/python3 -m pip install --upgrade pip\u001b[0m\n"
     ]
    }
   ],
   "source": [
    "!pip3 install scikit-multilearn\n",
    "import pandas as pd\n",
    "import numpy as np\n",
    "import os\n",
    "from sklearn.preprocessing import MultiLabelBinarizer\n",
    "from skmultilearn.problem_transform import LabelPowerset"
   ]
  },
  {
   "cell_type": "code",
   "execution_count": null,
   "id": "71e4e84d",
   "metadata": {},
   "outputs": [],
   "source": [
    "def load_domain():\n",
    "    return pd.read_excel('./Dataset/Domain_Classification_Data/Synthetic User Stories.xlsx')"
   ]
  },
  {
   "cell_type": "code",
   "execution_count": 12,
   "id": "58cf4596",
   "metadata": {},
   "outputs": [],
   "source": [
    "def ml_tasks_bin():\n",
    "    dataset = pd.read_excel(\"./Dataset/ML_Tasks_Classification_Data/Synthetic User Stories.xlsx\", header=None)\n",
    "    labels = pd.read_excel(\"./Dataset/ML_Tasks_Classification_Data/Keyword labelled.xlsx\", header=None)\n",
    "    labels[2] = labels[2].apply(lambda x: x.lower())\n",
    "    categories_column = []\n",
    "    for row in labels.iterrows():\n",
    "        current_labels = []\n",
    "        for label in row[1][3:]:\n",
    "            if isinstance(label, str):\n",
    "                current_labels.append(label.lower())\n",
    "        categories_column.append(current_labels)\n",
    "    labels[\"Categories array\"] = categories_column\n",
    "    target = []\n",
    "    counter = 0\n",
    "    for row in dataset.iterrows():\n",
    "        target.append(labels[labels[2]==row[1][\"Machine Learning Task\"].lower()][\"Categories array\"].values[0])\n",
    "        counter += 1\n",
    "    dataset[\"Target\"] = target\n",
    "    dataset['Target'] = dataset['Target'].apply(lambda x: ast.literal_eval(str(x)))\n",
    "\n",
    "    multilabel = MultiLabelBinarizer()\n",
    "    y = multilabel.fit_transform(dataset['Target'])\n",
    "    return pd.DataFrame(y, columns=multilabel.classes_)"
   ]
  },
  {
   "cell_type": "code",
   "execution_count": null,
   "id": "ff22778d",
   "metadata": {},
   "outputs": [],
   "source": []
  }
 ],
 "metadata": {
  "kernelspec": {
   "display_name": "Python 3",
   "language": "python",
   "name": "python3"
  },
  "language_info": {
   "codemirror_mode": {
    "name": "ipython",
    "version": 3
   },
   "file_extension": ".py",
   "mimetype": "text/x-python",
   "name": "python",
   "nbconvert_exporter": "python",
   "pygments_lexer": "ipython3",
   "version": "3.9.6"
  }
 },
 "nbformat": 4,
 "nbformat_minor": 5
}
